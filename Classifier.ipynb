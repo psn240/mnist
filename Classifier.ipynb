{
 "cells": [
  {
   "cell_type": "code",
   "execution_count": 1,
   "metadata": {
    "collapsed": false
   },
   "outputs": [],
   "source": [
    "import tensorflow as tf\n",
    "import numpy as np\n",
    "import numpy as np"
   ]
  },
  {
   "cell_type": "code",
   "execution_count": 2,
   "metadata": {
    "collapsed": false
   },
   "outputs": [],
   "source": [
    "# Import MINST data\n",
    "# The MNIST database of handwritten digits\n",
    "train_data = np.genfromtxt('./data/train.csv',  skip_header=1, delimiter=',')\n",
    "test_data = np.genfromtxt('./data/test.csv',  skip_header=1, delimiter=',')"
   ]
  },
  {
   "cell_type": "code",
   "execution_count": 3,
   "metadata": {
    "collapsed": false
   },
   "outputs": [],
   "source": [
    "x_train = np.multiply(train_data[0:33600,1:], 1.0 / 255.0)\n",
    "y_train = train_data[0:33600:,0]\n",
    "x_valid = np.multiply(train_data[33600:,1:], 1.0 / 255.0)\n",
    "y_valid = train_data[33600:,0]\n",
    "x_test = np.multiply(test_data, 1.0 / 255.0)\n",
    "#num_images = x_train.shape[0]\n",
    "#cols = x_train.shape[1]\n",
    "#x_train = x_train.reshape(num_images, num_images, cols, 1)"
   ]
  },
  {
   "cell_type": "code",
   "execution_count": null,
   "metadata": {
    "collapsed": false
   },
   "outputs": [],
   "source": [
    "import matplotlib.pyplot as plt\n",
    "%matplotlib inline\n",
    "sample_img = x_test[0]\n",
    "plt.imshow(sample_img.reshape([28, 28]), cmap='Greys')\n",
    "print(y_train[0])"
   ]
  },
  {
   "cell_type": "code",
   "execution_count": 4,
   "metadata": {
    "collapsed": false,
    "scrolled": true
   },
   "outputs": [
    {
     "name": "stderr",
     "output_type": "stream",
     "text": [
      "/Users/Bangz/anaconda/envs/tensorflow/lib/python3.5/site-packages/ipykernel/__main__.py:5: VisibleDeprecationWarning: using a non-integer number instead of an integer will result in an error in the future\n",
      "/Users/Bangz/anaconda/envs/tensorflow/lib/python3.5/site-packages/ipykernel/__main__.py:11: VisibleDeprecationWarning: using a non-integer number instead of an integer will result in an error in the future\n"
     ]
    }
   ],
   "source": [
    "num_labels = y_train.shape[0]\n",
    "num_classes = 10\n",
    "labels_one_hot = np.zeros((num_labels, num_classes))\n",
    "for i in range(num_labels):\n",
    "    labels_one_hot[i][y_train[i]] = 1\n",
    "y_train = labels_one_hot\n",
    "\n",
    "num_labels = y_valid.shape[0]\n",
    "labels_one_hot = np.zeros((num_labels, num_classes))\n",
    "for j in range(num_labels):\n",
    "    labels_one_hot[j][y_valid[j]] = 1\n",
    "y_valid = labels_one_hot\n"
   ]
  },
  {
   "cell_type": "code",
   "execution_count": 16,
   "metadata": {
    "collapsed": false
   },
   "outputs": [],
   "source": [
    "learning_rate = 0.001\n",
    "training_epochs = 25\n",
    "batch_size = 100\n",
    "display_step = 1\n",
    "\n",
    "# Network Parameters\n",
    "n_hidden_1 = 256 # 1st layer number of features\n",
    "n_hidden_2 = 256 # 2nd layer number of features\n",
    "n_input = 784 # MNIST data input (img shape: 28*28)\n",
    "n_classes = 10 # MNIST total classes (0-9 digits)\n",
    "\n",
    "# tf Graph input\n",
    "x = tf.placeholder(\"float\", [None, n_input])\n",
    "y = tf.placeholder(\"float\", [None, n_classes])\n",
    "\n",
    "\n",
    "weights = {\n",
    "    'h1': tf.Variable(tf.random_normal([n_input, n_hidden_1])),\n",
    "    'h2': tf.Variable(tf.random_normal([n_hidden_1, n_hidden_2])),\n",
    "    'out': tf.Variable(tf.random_normal([n_hidden_2, n_classes]))\n",
    "}\n",
    "biases = {\n",
    "    'b1': tf.Variable(tf.random_normal([n_hidden_1])),\n",
    "    'b2': tf.Variable(tf.random_normal([n_hidden_2])),\n",
    "    'out': tf.Variable(tf.random_normal([n_classes]))\n",
    "}\n",
    "\n",
    "# Construct model\n",
    "layer_1 = tf.add(tf.matmul(x, weights['h1']), biases['b1'])\n",
    "layer_1 = tf.nn.relu(layer_1)\n",
    "layer_2 = tf.add(tf.matmul(layer_1, weights['h2']), biases['b2'])\n",
    "layer_2 = tf.nn.relu(layer_2)\n",
    "# Hidden layer with RELU activation\n",
    "# Output layer with linear activation\n",
    "pred = tf.matmul(layer_2, weights['out']) + biases['out']\n",
    "\n",
    "# Define loss and optimizer\n",
    "cost = tf.reduce_mean(tf.nn.softmax_cross_entropy_with_logits(pred, y))\n",
    "optimizer = tf.train.AdamOptimizer(learning_rate=learning_rate).minimize(cost)"
   ]
  },
  {
   "cell_type": "code",
   "execution_count": 17,
   "metadata": {
    "collapsed": true
   },
   "outputs": [],
   "source": [
    "def generate_batches(x, y, batch_size):\n",
    "    perm = np.arange(len(x))\n",
    "    np.random.shuffle(perm)\n",
    "    x = x[perm]\n",
    "    y = y[perm]\n",
    "    return (x[0:batch_size], y[0:batch_size])"
   ]
  },
  {
   "cell_type": "code",
   "execution_count": 18,
   "metadata": {
    "collapsed": true
   },
   "outputs": [],
   "source": [
    "# Initializing the variables\n",
    "init = tf.initialize_all_variables()"
   ]
  },
  {
   "cell_type": "code",
   "execution_count": 19,
   "metadata": {
    "collapsed": false
   },
   "outputs": [
    {
     "name": "stdout",
     "output_type": "stream",
     "text": [
      "Total batches: 336\n",
      "Epoch: 0001 cost= 188.979271684\n",
      "Total batches: 336\n",
      "Epoch: 0002 cost= 48.849171394\n",
      "Total batches: 336\n",
      "Epoch: 0003 cost= 32.986354002\n",
      "Total batches: 336\n",
      "Epoch: 0004 cost= 22.735039295\n",
      "Total batches: 336\n",
      "Epoch: 0005 cost= 16.654636131\n",
      "Total batches: 336\n",
      "Epoch: 0006 cost= 12.451098771\n",
      "Total batches: 336\n",
      "Epoch: 0007 cost= 9.302271109\n",
      "Total batches: 336\n",
      "Epoch: 0008 cost= 7.755970348\n",
      "Total batches: 336\n",
      "Epoch: 0009 cost= 6.249749674\n",
      "Total batches: 336\n",
      "Epoch: 0010 cost= 4.206894511\n",
      "Total batches: 336\n",
      "Epoch: 0011 cost= 3.038048315\n",
      "Total batches: 336\n",
      "Epoch: 0012 cost= 2.613818210\n",
      "Total batches: 336\n",
      "Epoch: 0013 cost= 2.150789331\n",
      "Total batches: 336\n",
      "Epoch: 0014 cost= 1.497688276\n",
      "Total batches: 336\n",
      "Epoch: 0015 cost= 0.880205783\n",
      "Total batches: 336\n",
      "Epoch: 0016 cost= 0.757139803\n",
      "Total batches: 336\n",
      "Epoch: 0017 cost= 0.650847211\n",
      "Total batches: 336\n",
      "Epoch: 0018 cost= 0.433350947\n",
      "Total batches: 336\n",
      "Epoch: 0019 cost= 0.388970323\n",
      "Total batches: 336\n",
      "Epoch: 0020 cost= 0.235714447\n",
      "Total batches: 336\n",
      "Epoch: 0021 cost= 0.276531344\n",
      "Total batches: 336\n",
      "Epoch: 0022 cost= 0.177197908\n",
      "Total batches: 336\n",
      "Epoch: 0023 cost= 0.218282949\n",
      "Total batches: 336\n",
      "Epoch: 0024 cost= 0.177844793\n",
      "Total batches: 336\n",
      "Epoch: 0025 cost= 0.104134941\n",
      "Optimization Finished!\n",
      "Valid Accuracy: 0.939405\n"
     ]
    }
   ],
   "source": [
    "# Launch the graph\n",
    "with tf.Session() as sess:\n",
    "    sess.run(init)\n",
    "\n",
    "    # Training cycle\n",
    "    for epoch in range(training_epochs):\n",
    "        avg_cost = 0.\n",
    "        total_batch = int(len(x_train)/batch_size)\n",
    "        # Loop over all batches\n",
    "        for i in range(total_batch):\n",
    "            (batch_xs, batch_ys) = generate_batches(x_train, y_train, batch_size)\n",
    "            # Fit training using batch data\n",
    "            sess.run(optimizer, feed_dict = {x: batch_xs, y:batch_ys}) # Complete this\n",
    "            # Compute average loss\n",
    "            avg_cost += sess.run(cost, feed_dict={x: batch_xs, y: batch_ys})\n",
    "        # Display logs per epoch step\n",
    "        if epoch % display_step == 0:\n",
    "            print(\"Epoch:\", '%04d' % (epoch+1), \"cost=\", \"{:.9f}\".format(avg_cost/total_batch))\n",
    "    print(\"Optimization Finished!\")\n",
    "    # Validaltion Accuracy\n",
    "    y_temp = tf.argmax(pred, 1)\n",
    "    correct_prediction = tf.equal(y_temp, tf.argmax(y, 1))\n",
    "    # Calculate accuracy\n",
    "    accuracy = tf.reduce_mean(tf.cast(correct_prediction, \"float\"))\n",
    "    print(\"Valid Accuracy:\", accuracy.eval({x: x_valid, y: y_valid}))\n",
    "    #Predict for the test data\n",
    "    y_test = tf.argmax(pred,1)\n",
    "    np.savetxt('results.csv', y_test.eval({x:x_test}), fmt='%i')\n",
    "        "
   ]
  },
  {
   "cell_type": "code",
   "execution_count": null,
   "metadata": {
    "collapsed": true
   },
   "outputs": [],
   "source": []
  }
 ],
 "metadata": {
  "anaconda-cloud": {},
  "kernelspec": {
   "display_name": "Python [tensorflow]",
   "language": "python",
   "name": "Python [tensorflow]"
  },
  "language_info": {
   "codemirror_mode": {
    "name": "ipython",
    "version": 3
   },
   "file_extension": ".py",
   "mimetype": "text/x-python",
   "name": "python",
   "nbconvert_exporter": "python",
   "pygments_lexer": "ipython3",
   "version": "3.5.2"
  }
 },
 "nbformat": 4,
 "nbformat_minor": 0
}
